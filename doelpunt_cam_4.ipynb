{
 "cells": [
  {
   "cell_type": "markdown",
   "metadata": {},
   "source": [
    "# Imports\n"
   ]
  },
  {
   "cell_type": "code",
   "execution_count": 107,
   "metadata": {},
   "outputs": [],
   "source": [
    "import cv2\n",
    "import numpy as np1\n",
    "import glob"
   ]
  },
  {
   "cell_type": "markdown",
   "metadata": {},
   "source": [
    "## Read images"
   ]
  },
  {
   "cell_type": "code",
   "execution_count": 108,
   "metadata": {},
   "outputs": [],
   "source": [
    "img = cv2.imread('./SourceFiles/Images/doelpunten_cam_4/frame100.jpg')\n",
    "\n",
    "# Convert to graycsale\n",
    "img_gray = cv2.cvtColor(img, cv2.COLOR_BGR2GRAY)\n",
    "\n",
    "# Blur the image for better edge detection\n",
    "img_blur = cv2.GaussianBlur(img_gray, (3,3), 3)\n",
    "\n",
    "\n",
    "# Sobel Edge Detection\n",
    "sobelx = cv2.Sobel(src=img_blur, ddepth=cv2.CV_64F, dx=1, dy=0, ksize=5) # Sobel Edge Detection on the X axis\n",
    "sobely = cv2.Sobel(src=img_blur, ddepth=cv2.CV_64F, dx=0, dy=1, ksize=5) # Sobel Edge Detection on the Y axis\n",
    "sobelxy = cv2.Sobel(src=img_blur, ddepth=cv2.CV_64F, dx=1, dy=1, ksize=5) # Combined X and Y Sobel Edge Detection"
   ]
  },
  {
   "cell_type": "code",
   "execution_count": 27,
   "metadata": {},
   "outputs": [],
   "source": [
    "for i in range(100):\n",
    "    threshold_one = i * 10\n",
    "    # Canny Edge Detection\n",
    "    edges = cv2.Canny(image=img_blur, threshold1=threshold_one, threshold2=10) \n",
    "    cv2.imwrite(\"./SourceFiles/Images/doelpunten_cam_4/canny/frame100_edge_%d.jpg\" % threshold_one , edges)     # save frame as JPEG file    "
   ]
  },
  {
   "cell_type": "code",
   "execution_count": 103,
   "metadata": {},
   "outputs": [
    {
     "data": {
      "text/plain": [
       "True"
      ]
     },
     "execution_count": 103,
     "metadata": {},
     "output_type": "execute_result"
    }
   ],
   "source": [
    "img1 = cv2.imread('./SourceFiles/Images/doelpunten_cam_4/frame100.jpg')\n",
    "kernel1 = np1.ones((5,5), np1.uint8)\n",
    "img1_erosion1 = cv2.erode(img_blur, kernel1, iterations=1)\n",
    "img1_dilation1 = cv2.dilate(img1_erosion1, kernel1, iterations=1)\n",
    "edges = cv2.Canny(image=img1_dilation1, threshold1=100, threshold2=400) \n",
    "\n",
    "# cv2.imwrite(\"./SourceFiles/Images/doelpunten_cam_4/result/frame100_1_blur.jpg\" , img_blur)\n",
    "# cv2.imwrite(\"./SourceFiles/Images/doelpunten_cam_4/result/frame100_2_erosion.jpg\" , img1_erosion1)\n",
    "# cv2.imwrite(\"./SourceFiles/Images/doelpunten_cam_4/result/frame100_3_dilation.jpg\" , img1_dilation1)\n",
    "cv2.imwrite(\"./SourceFiles/Images/doelpunten_cam_4/result/frame100_canny.jpg\" , edges)"
   ]
  },
  {
   "cell_type": "code",
   "execution_count": 116,
   "metadata": {},
   "outputs": [
    {
     "name": "stdout",
     "output_type": "stream",
     "text": [
      "frame100.jpg\n",
      "frame100_edge.jpg\n",
      "frame101.jpg\n",
      "frame102.jpg\n",
      "frame103.jpg\n",
      "frame104.jpg\n",
      "frame105.jpg\n",
      "frame106.jpg\n",
      "frame17.jpg\n",
      "frame18.jpg\n",
      "frame19.jpg\n",
      "frame20.jpg\n",
      "frame21.jpg\n",
      "frame22.jpg\n",
      "frame23.jpg\n",
      "frame24.jpg\n",
      "frame25.jpg\n",
      "frame26.jpg\n",
      "frame27.jpg\n",
      "frame28.jpg\n",
      "frame29.jpg\n",
      "frame30.jpg\n",
      "frame31.jpg\n",
      "frame32.jpg\n",
      "frame33.jpg\n",
      "frame34.jpg\n",
      "frame35.jpg\n",
      "frame36.jpg\n",
      "frame37.jpg\n",
      "frame38.jpg\n",
      "frame39.jpg\n",
      "frame40.jpg\n",
      "frame41.jpg\n",
      "frame42.jpg\n",
      "frame43.jpg\n",
      "frame44.jpg\n",
      "frame45.jpg\n",
      "frame46.jpg\n",
      "frame47.jpg\n",
      "frame48.jpg\n",
      "frame49.jpg\n",
      "frame50.jpg\n",
      "frame51.jpg\n",
      "frame52.jpg\n",
      "frame53.jpg\n",
      "frame54.jpg\n",
      "frame55.jpg\n",
      "frame56.jpg\n",
      "frame57.jpg\n",
      "frame58.jpg\n",
      "frame59.jpg\n",
      "frame60.jpg\n",
      "frame61.jpg\n",
      "frame62.jpg\n",
      "frame63.jpg\n",
      "frame64.jpg\n",
      "frame641.jpg\n",
      "frame642.jpg\n",
      "frame643.jpg\n",
      "frame644.jpg\n",
      "frame645.jpg\n",
      "frame646.jpg\n",
      "frame647.jpg\n",
      "frame648.jpg\n",
      "frame649.jpg\n",
      "frame65.jpg\n",
      "frame650.jpg\n",
      "frame651.jpg\n",
      "frame66.jpg\n",
      "frame67.jpg\n",
      "frame68.jpg\n",
      "frame69.jpg\n",
      "frame70.jpg\n",
      "frame71.jpg\n",
      "frame72.jpg\n",
      "frame73.jpg\n",
      "frame74.jpg\n",
      "frame75.jpg\n",
      "frame76.jpg\n",
      "frame77.jpg\n",
      "frame78.jpg\n",
      "frame79.jpg\n",
      "frame80.jpg\n",
      "frame81.jpg\n",
      "frame82.jpg\n",
      "frame83.jpg\n",
      "frame84.jpg\n",
      "frame85.jpg\n",
      "frame86.jpg\n",
      "frame87.jpg\n",
      "frame88.jpg\n",
      "frame89.jpg\n",
      "frame90.jpg\n",
      "frame91.jpg\n",
      "frame92.jpg\n",
      "frame93.jpg\n",
      "frame94.jpg\n",
      "frame95.jpg\n",
      "frame96.jpg\n",
      "frame97.jpg\n",
      "frame98.jpg\n",
      "frame99.jpg\n"
     ]
    }
   ],
   "source": [
    "path = \"./SourceFiles/Images/doelpunten_cam_4/*.*\"\n",
    "\n",
    "count = 1\n",
    "for file in glob.glob(path):\n",
    "    img = cv2.imread(file)\n",
    "    print(file.split('\\\\')[-1])\n",
    "    # Convert to graycsale\n",
    "    img_gray = cv2.cvtColor(img, cv2.COLOR_BGR2GRAY)\n",
    "\n",
    "    # Blur the image for better edge detection\n",
    "    img_blur = cv2.GaussianBlur(img_gray, (3,3), 3)\n",
    "    img1_erosion1 = cv2.erode(img_blur, kernel1, iterations=1)\n",
    "    img1_dilation1 = cv2.dilate(img1_erosion1, kernel1, iterations=1)\n",
    "    edges = cv2.Canny(image=img1_dilation1, threshold1=100, threshold2=400) \n",
    "\n",
    "    # cv2.imwrite(\"./SourceFiles/Images/doelpunten_cam_4/result/frame100_1_blur.jpg\" , img_blur)\n",
    "    # cv2.imwrite(\"./SourceFiles/Images/doelpunten_cam_4/result/frame100_2_erosion.jpg\" , img1_erosion1)\n",
    "    # cv2.imwrite(\"./SourceFiles/Images/doelpunten_cam_4/result/frame100_3_dilation.jpg\" , img1_dilation1)\n",
    "    cv2.imwrite(\"./SourceFiles/Images/doelpunten_cam_4/result/{filename}_canny.jpg\".format(filename = file.split('\\\\')[-1].split('.')[0]) , edges)\n",
    "\n",
    "    count += 1"
   ]
  }
 ],
 "metadata": {
  "interpreter": {
   "hash": "f53b217d8430526303bffcd87b390d5c67e67390f11595101f60a03768747934"
  },
  "kernelspec": {
   "display_name": "Python 3.9.7 ('base')",
   "language": "python",
   "name": "python3"
  },
  "language_info": {
   "codemirror_mode": {
    "name": "ipython",
    "version": 3
   },
   "file_extension": ".py",
   "mimetype": "text/x-python",
   "name": "python",
   "nbconvert_exporter": "python",
   "pygments_lexer": "ipython3",
   "version": "3.9.7"
  },
  "orig_nbformat": 4
 },
 "nbformat": 4,
 "nbformat_minor": 2
}
